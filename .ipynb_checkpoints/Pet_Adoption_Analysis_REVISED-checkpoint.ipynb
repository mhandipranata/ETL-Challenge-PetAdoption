{
 "cells": [
  {
   "cell_type": "code",
   "execution_count": null,
   "metadata": {},
   "outputs": [],
   "source": [
    "# Dependencies\n",
    "import json\n",
    "import requests\n",
    "import pandas as pd\n",
    "# from config import petfinder_api_key, petfinder_secret_key\n",
    "petfinder_api_key = \"HhaiV3VVGYcsIn5p5z1Ifo9WwMgHYyDD0kawPaqfb8lwY5w8Cg\"\n",
    "petfinder_secret_key = \"MwYnzXNdzb0qonUHjNOoYpu9KJZTTIoIbG9XoSL2\""
   ]
  },
  {
   "cell_type": "code",
   "execution_count": null,
   "metadata": {},
   "outputs": [],
   "source": [
    "# Request token for the API\n",
    "data = {\n",
    "  'grant_type': 'client_credentials',\n",
    "  'client_id': petfinder_api_key,\n",
    "  'client_secret': petfinder_secret_key\n",
    "}\n",
    "\n",
    "token_response = requests.post('https://api.petfinder.com/v2/oauth2/token', data=data)\n",
    "\n",
    "token_response_json = token_response.json()\n",
    "\n",
    "# print(json.dumps(token_response_json, indent = 4))\n",
    "token_response_json"
   ]
  },
  {
   "cell_type": "code",
   "execution_count": null,
   "metadata": {},
   "outputs": [],
   "source": [
    "headers = { 'Authorization': f\"Bearer {token_response_json['access_token']}\" }\n",
    "headers"
   ]
  },
  {
   "cell_type": "code",
   "execution_count": null,
   "metadata": {},
   "outputs": [],
   "source": [
    "# Pull data from petfinder.com API \n",
    "url = \"https://api.petfinder.com/v2/animals?\"\n",
    "response = requests.get(url, headers=headers)\n",
    "response_json = response.json()\n",
    "\n",
    "# print(json.dumps(response_json, indent = 4))\n",
    "response_json"
   ]
  },
  {
   "cell_type": "code",
   "execution_count": null,
   "metadata": {},
   "outputs": [],
   "source": [
    "# Extract out list of animal dictionaries (also known as records)\n",
    "animal_records = response_json['animals']\n",
    "animal_records"
   ]
  },
  {
   "cell_type": "code",
   "execution_count": null,
   "metadata": {},
   "outputs": [],
   "source": [
    "# Use Pandas to directly convert list of records to DataFrame\n",
    "animals_df = pd.DataFrame(animal_records)\n",
    "animals_df"
   ]
  },
  {
   "cell_type": "code",
   "execution_count": null,
   "metadata": {},
   "outputs": [],
   "source": [
    "# Export and save json data to json file\n",
    "with open('petfinder_data_v2.json', 'w') as outfile:\n",
    "    json.dump(response_json, outfile)"
   ]
  },
  {
   "cell_type": "code",
   "execution_count": null,
   "metadata": {},
   "outputs": [],
   "source": [
    "# Put the json file to dataframe\n",
    "# json_file = \"./petfinder_data_v2.json\"\n",
    "petfinder_data_df = pd.read_json(\"./petfinder_data_v2.json\")\n",
    "petfinder_data_df.head()"
   ]
  },
  {
   "cell_type": "markdown",
   "metadata": {},
   "source": [
    "## Web Scraping "
   ]
  },
  {
   "cell_type": "code",
   "execution_count": null,
   "metadata": {},
   "outputs": [],
   "source": [
    "# Dependencies\n",
    "from bs4 import BeautifulSoup\n",
    "import requests"
   ]
  },
  {
   "cell_type": "code",
   "execution_count": null,
   "metadata": {},
   "outputs": [],
   "source": [
    "# URL of page to be scraped\n",
    "url = \"http://dog.rescueme.org/California\""
   ]
  },
  {
   "cell_type": "code",
   "execution_count": null,
   "metadata": {},
   "outputs": [],
   "source": [
    "response = requests.get(url)\n",
    "print(response.text)"
   ]
  },
  {
   "cell_type": "code",
   "execution_count": null,
   "metadata": {},
   "outputs": [],
   "source": [
    "soup = BeautifulSoup(response.text, 'html.parser')"
   ]
  },
  {
   "cell_type": "code",
   "execution_count": null,
   "metadata": {},
   "outputs": [],
   "source": [
    "print(soup.prettify())"
   ]
  },
  {
   "cell_type": "code",
   "execution_count": null,
   "metadata": {},
   "outputs": [],
   "source": [
    "names = soup.find_all('span', class_= '_cpn')\n",
    "\n",
    "for name in names:\n",
    "    print(name.text)"
   ]
  },
  {
   "cell_type": "code",
   "execution_count": null,
   "metadata": {},
   "outputs": [],
   "source": []
  }
 ],
 "metadata": {
  "kernelspec": {
   "display_name": "Python 3",
   "language": "python",
   "name": "python3"
  },
  "language_info": {
   "codemirror_mode": {
    "name": "ipython",
    "version": 3
   },
   "file_extension": ".py",
   "mimetype": "text/x-python",
   "name": "python",
   "nbconvert_exporter": "python",
   "pygments_lexer": "ipython3",
   "version": "3.7.4"
  }
 },
 "nbformat": 4,
 "nbformat_minor": 2
}
